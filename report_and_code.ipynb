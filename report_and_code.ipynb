{
 "cells": [
  {
   "cell_type": "markdown",
   "id": "4a3c9b0c",
   "metadata": {},
   "source": [
    "# <font color=red><center><b>BBM409 : Introduction to Machine Learning Lab - Assignment 4</b></center></font>"
   ]
  },
  {
   "cell_type": "markdown",
   "id": "44310c59",
   "metadata": {},
   "source": [
    "<center><img src=\"https://upload.wikimedia.org/wikipedia/tr/2/28/Hacettepe_%C3%9Cniversitesi_Logosu.svg\" />"
   ]
  },
  {
   "cell_type": "markdown",
   "id": "d27c20c0",
   "metadata": {},
   "source": [
    "## <font color=black><center>Berra Nur SARI - 21727671 <br> Melih SUNMAN - 21827809</center></font>"
   ]
  },
  {
   "cell_type": "markdown",
   "id": "beadd27c",
   "metadata": {},
   "source": [
    "## Part 1: Multi Layer Neural Network"
   ]
  },
  {
   "cell_type": "markdown",
   "id": "330b4793",
   "metadata": {},
   "source": [
    "- In this part of the assignment, we implement multi layer neural network for classification. Created network consists of one input layer, n hidden layer(s) and one output layer. We implemented forward and backward propagations with the loss function and learning setting. Actually, we implemented a back-propagation algorithm to train a neural network."
   ]
  },
  {
   "cell_type": "markdown",
   "id": "dcc737e9",
   "metadata": {},
   "source": [
    "### Implementing Artificial Neural Network"
   ]
  },
  {
   "cell_type": "markdown",
   "id": "3905d398",
   "metadata": {},
   "source": [
    "<i style=\"color:green\"> Required libraries are imported </i>"
   ]
  },
  {
   "cell_type": "code",
   "execution_count": 73,
   "id": "de59dffe",
   "metadata": {},
   "outputs": [],
   "source": [
    "import numpy as np\n",
    "import pandas as pd\n",
    "import os\n",
    "\n",
    "#For Preprocessing\n",
    "import cv2\n",
    "import itertools\n",
    "from tqdm.notebook import tqdm\n",
    "#from tqdm import tqdm_notebook as tqdm\n",
    "from PIL import Image, ImageOps\n",
    "\n",
    "#Additional imports for functionality\n",
    "from sklearn.utils import class_weight, shuffle\n",
    "from sklearn import metrics\n",
    "from sklearn.metrics import confusion_matrix\n",
    "\n",
    "#For Graphing and Plotting Images\n",
    "import matplotlib.pyplot as plt \n",
    "import matplotlib.image as mpimg\n",
    "%matplotlib inline\n",
    "\n",
    "#For Create Tables\n",
    "from prettytable import PrettyTable "
   ]
  },
  {
   "cell_type": "markdown",
   "id": "8f893ab7",
   "metadata": {},
   "source": [
    "<i style=\"color:green\"> Getting foldernames from dataset </i>"
   ]
  },
  {
   "cell_type": "code",
   "execution_count": 2,
   "id": "d7e68e13",
   "metadata": {},
   "outputs": [],
   "source": [
    "foldernames = os.listdir('raw-img')"
   ]
  },
  {
   "cell_type": "markdown",
   "id": "2a2815b8",
   "metadata": {},
   "source": [
    "<i style=\"color:green\"> Creating Empty lists for categories and the files </i>"
   ]
  },
  {
   "cell_type": "code",
   "execution_count": 3,
   "id": "1398b06f",
   "metadata": {},
   "outputs": [],
   "source": [
    "categories = []\n",
    "files = []\n",
    "i = 0"
   ]
  },
  {
   "cell_type": "markdown",
   "id": "ada95b41",
   "metadata": {},
   "source": [
    "<i style=\"color:green\"> Going over all the folders and their categories in the foldernames </i>"
   ]
  },
  {
   "cell_type": "code",
   "execution_count": 4,
   "id": "32f5c789",
   "metadata": {},
   "outputs": [
    {
     "name": "stdout",
     "output_type": "stream",
     "text": [
      "0 cane\n",
      "1 cavallo\n",
      "2 elefante\n",
      "3 farfalla\n",
      "4 gallina\n",
      "5 gatto\n",
      "6 mucca\n",
      "7 pecora\n",
      "8 ragno\n",
      "9 scoiattolo\n"
     ]
    }
   ],
   "source": [
    "for k, folder in enumerate(foldernames):\n",
    "    print(k , folder)\n",
    "    #Getting the filenames\n",
    "    filenames = os.listdir(\"raw-img/\" + folder);\n",
    "    for file in filenames:\n",
    "        #Appending all the image files into one list\n",
    "        files.append(\"raw-img/\" + folder + \"/\" + file)\n",
    "        #Appending categories into one list\n",
    "        categories.append(k)"
   ]
  },
  {
   "cell_type": "markdown",
   "id": "a4af0389",
   "metadata": {},
   "source": [
    "<i style=\"color:green\"> Defining a DataFrame to store data </i>"
   ]
  },
  {
   "cell_type": "code",
   "execution_count": 5,
   "id": "40e7014e",
   "metadata": {},
   "outputs": [
    {
     "data": {
      "text/html": [
       "<div>\n",
       "<style scoped>\n",
       "    .dataframe tbody tr th:only-of-type {\n",
       "        vertical-align: middle;\n",
       "    }\n",
       "\n",
       "    .dataframe tbody tr th {\n",
       "        vertical-align: top;\n",
       "    }\n",
       "\n",
       "    .dataframe thead th {\n",
       "        text-align: right;\n",
       "    }\n",
       "</style>\n",
       "<table border=\"1\" class=\"dataframe\">\n",
       "  <thead>\n",
       "    <tr style=\"text-align: right;\">\n",
       "      <th></th>\n",
       "      <th>filename</th>\n",
       "      <th>category</th>\n",
       "    </tr>\n",
       "  </thead>\n",
       "  <tbody>\n",
       "    <tr>\n",
       "      <th>0</th>\n",
       "      <td>raw-img/cane/OIF-e2bexWrojgtQnAPPcUfOWQ.jpeg</td>\n",
       "      <td>0</td>\n",
       "    </tr>\n",
       "    <tr>\n",
       "      <th>1</th>\n",
       "      <td>raw-img/cane/OIP---A27bIBcUgX1qkbpZOPswHaFS.jpeg</td>\n",
       "      <td>0</td>\n",
       "    </tr>\n",
       "    <tr>\n",
       "      <th>2</th>\n",
       "      <td>raw-img/cane/OIP---cByAiEbIxIAleGo9AqOQAAAA.jpeg</td>\n",
       "      <td>0</td>\n",
       "    </tr>\n",
       "    <tr>\n",
       "      <th>3</th>\n",
       "      <td>raw-img/cane/OIP---ZIdwfUcJeVxnh47zppcQHaFj.jpeg</td>\n",
       "      <td>0</td>\n",
       "    </tr>\n",
       "    <tr>\n",
       "      <th>4</th>\n",
       "      <td>raw-img/cane/OIP---ZRsOF7zsMqhW30WeF8-AHaFj.jpeg</td>\n",
       "      <td>0</td>\n",
       "    </tr>\n",
       "    <tr>\n",
       "      <th>...</th>\n",
       "      <td>...</td>\n",
       "      <td>...</td>\n",
       "    </tr>\n",
       "    <tr>\n",
       "      <th>26174</th>\n",
       "      <td>raw-img/scoiattolo/OIP-_U7JiIoYjbWPqmmmmdsvJwH...</td>\n",
       "      <td>9</td>\n",
       "    </tr>\n",
       "    <tr>\n",
       "      <th>26175</th>\n",
       "      <td>raw-img/scoiattolo/OIP-_VBkNQd_MZI4xoemUb-FtAH...</td>\n",
       "      <td>9</td>\n",
       "    </tr>\n",
       "    <tr>\n",
       "      <th>26176</th>\n",
       "      <td>raw-img/scoiattolo/OIP-_WyHKgREia-4VijlL6DNswH...</td>\n",
       "      <td>9</td>\n",
       "    </tr>\n",
       "    <tr>\n",
       "      <th>26177</th>\n",
       "      <td>raw-img/scoiattolo/OIP-_xFGMN0UbYduHdiXQ1maZAH...</td>\n",
       "      <td>9</td>\n",
       "    </tr>\n",
       "    <tr>\n",
       "      <th>26178</th>\n",
       "      <td>raw-img/scoiattolo/OIP-_XkUFCI2duAyKDD9utKQzgH...</td>\n",
       "      <td>9</td>\n",
       "    </tr>\n",
       "  </tbody>\n",
       "</table>\n",
       "<p>26179 rows × 2 columns</p>\n",
       "</div>"
      ],
      "text/plain": [
       "                                                filename  category\n",
       "0           raw-img/cane/OIF-e2bexWrojgtQnAPPcUfOWQ.jpeg         0\n",
       "1       raw-img/cane/OIP---A27bIBcUgX1qkbpZOPswHaFS.jpeg         0\n",
       "2       raw-img/cane/OIP---cByAiEbIxIAleGo9AqOQAAAA.jpeg         0\n",
       "3       raw-img/cane/OIP---ZIdwfUcJeVxnh47zppcQHaFj.jpeg         0\n",
       "4       raw-img/cane/OIP---ZRsOF7zsMqhW30WeF8-AHaFj.jpeg         0\n",
       "...                                                  ...       ...\n",
       "26174  raw-img/scoiattolo/OIP-_U7JiIoYjbWPqmmmmdsvJwH...         9\n",
       "26175  raw-img/scoiattolo/OIP-_VBkNQd_MZI4xoemUb-FtAH...         9\n",
       "26176  raw-img/scoiattolo/OIP-_WyHKgREia-4VijlL6DNswH...         9\n",
       "26177  raw-img/scoiattolo/OIP-_xFGMN0UbYduHdiXQ1maZAH...         9\n",
       "26178  raw-img/scoiattolo/OIP-_XkUFCI2duAyKDD9utKQzgH...         9\n",
       "\n",
       "[26179 rows x 2 columns]"
      ]
     },
     "execution_count": 5,
     "metadata": {},
     "output_type": "execute_result"
    }
   ],
   "source": [
    "df = pd.DataFrame({\n",
    "    'filename': files,\n",
    "    'category': categories\n",
    "})\n",
    "df"
   ]
  },
  {
   "cell_type": "markdown",
   "id": "a173e035",
   "metadata": {},
   "source": [
    "<i style=\"color:green\"> Preprocessing on images: </i>\n",
    "- We want to train the network feeding by given training set as gray-level image values and size of images are 32x32. For this reason, we converted the pictures to black and white and changed their size.\n",
    "- Since the data to be used during ANN training will be flatten, we converted our matrices to flatten and normalized them."
   ]
  },
  {
   "cell_type": "code",
   "execution_count": 6,
   "id": "954f022f",
   "metadata": {},
   "outputs": [
    {
     "data": {
      "application/vnd.jupyter.widget-view+json": {
       "model_id": "865000bfe76e46d7a8c611b0d3a30c28",
       "version_major": 2,
       "version_minor": 0
      },
      "text/plain": [
       "  0%|          | 0/26179 [00:00<?, ?it/s]"
      ]
     },
     "metadata": {},
     "output_type": "display_data"
    }
   ],
   "source": [
    "images = []\n",
    "\n",
    "def process_image(img_path: str) -> np.array:\n",
    "    img = Image.open(img_path)\n",
    "    #to convert the image to grayscale\n",
    "    img = ImageOps.grayscale(img)\n",
    "    #to resizes our image (32 pixels wide and tall)\n",
    "    img = img.resize(size=(32, 32))\n",
    "    #to flatten the image and normalization\n",
    "    img = np.ravel(img) / 255.0\n",
    "    return img\n",
    "\n",
    "#tqdm is used for visualing the progress of the image preprocessing as a progress bar\n",
    "with tqdm(total=len(df)) as pbar:\n",
    "    #Going over all the filenames in train_df\n",
    "    for i, file_path in enumerate(df.filename.values):\n",
    "        img = process_image(file_path)\n",
    "        images.append(img)\n",
    "        pbar.update(1)"
   ]
  },
  {
   "cell_type": "code",
   "execution_count": 26,
   "id": "edb39a6c",
   "metadata": {},
   "outputs": [
    {
     "data": {
      "text/plain": [
       "(26179, 1024)"
      ]
     },
     "execution_count": 26,
     "metadata": {},
     "output_type": "execute_result"
    }
   ],
   "source": [
    "images = np.array(images)\n",
    "images.shape"
   ]
  },
  {
   "cell_type": "markdown",
   "id": "2337aef4",
   "metadata": {},
   "source": [
    "<i style=\"color:green\"> This is an example to show how preprocessing works  </i>"
   ]
  },
  {
   "cell_type": "code",
   "execution_count": 27,
   "id": "80664e86",
   "metadata": {},
   "outputs": [
    {
     "name": "stdout",
     "output_type": "stream",
     "text": [
      "[0.45490196 0.47058824 0.47843137 ... 0.57647059 0.57647059 0.60392157]\n"
     ]
    },
    {
     "data": {
      "image/png": "[encoded data removed]",
      "text/plain": [
       "<PIL.JpegImagePlugin.JpegImageFile image mode=RGB size=153x300 at 0x1A17B71D4F0>"
      ]
     },
     "metadata": {},
     "output_type": "display_data"
    },
    {
     "data": {
      "image/png": "[encoded data removed]",
      "text/plain": [
       "<PIL.Image.Image image mode=L size=32x32 at 0x1A17B3789D0>"
      ]
     },
     "execution_count": 27,
     "metadata": {},
     "output_type": "execute_result"
    }
   ],
   "source": [
    "example_path = df.filename.values[2]\n",
    "test_image = process_image(example_path)\n",
    "print(test_image)\n",
    "src_img = Image.open(example_path)\n",
    "display(src_img)\n",
    "\n",
    "#Reverse the last step to represent the image visually with using array\n",
    "Image.fromarray(np.uint8(test_image * 255).reshape((32, 32)))"
   ]
  },
  {
   "cell_type": "markdown",
   "id": "0f5d68f2",
   "metadata": {},
   "source": [
    "<i style=\"color:green\"> Shuffle the data and convert to numpy  </i>"
   ]
  },
  {
   "cell_type": "code",
   "execution_count": 28,
   "id": "778ea545",
   "metadata": {},
   "outputs": [],
   "source": [
    "#Assigning x and y to be the values and their target labels respectively\n",
    "x = df['filename']\n",
    "y = df['category']\n",
    "\n",
    "#Getting a list of the number of images used and a random index permutation from the data\n",
    "#to randomly append images into x_shuffle along with their labels\n",
    "data_num = len(y)\n",
    "random_index = np.random.permutation(data_num)\n",
    "\n",
    "#Shuffling the data\n",
    "x, y = shuffle(x, y)\n",
    "\n",
    "#Empty lists to store shuffled data\n",
    "x_shuffle = []\n",
    "y_shuffle = []\n",
    "for i in range(data_num):\n",
    "    x_shuffle.append(images[random_index[i]])\n",
    "    y_shuffle.append(y[random_index[i]])\n",
    "    \n",
    "x = np.array(x_shuffle) \n",
    "y = np.array(y_shuffle)"
   ]
  },
  {
   "cell_type": "code",
   "execution_count": 29,
   "id": "90eb52d2",
   "metadata": {},
   "outputs": [
    {
     "data": {
      "text/plain": [
       "((26179, 1024), (26179,))"
      ]
     },
     "execution_count": 29,
     "metadata": {},
     "output_type": "execute_result"
    }
   ],
   "source": [
    "x.shape , y.shape"
   ]
  },
  {
   "cell_type": "markdown",
   "id": "e467f3f6",
   "metadata": {},
   "source": [
    "<i style=\"color:green\"> Partitioning 20% of the dataset into test set and partitioning 20% of the dataset into validation set  </i>"
   ]
  },
  {
   "cell_type": "code",
   "execution_count": 30,
   "id": "07e07b97",
   "metadata": {},
   "outputs": [
    {
     "data": {
      "text/plain": [
       "5236"
      ]
     },
     "execution_count": 30,
     "metadata": {},
     "output_type": "execute_result"
    }
   ],
   "source": [
    "split_num = int(round(0.2*len(y)))\n",
    "split_num"
   ]
  },
  {
   "cell_type": "markdown",
   "id": "37e9293a",
   "metadata": {},
   "source": [
    "<i style=\"color:green\"> 60% of the data set was divided into training set, 20% validation set, and 20% test set  </i>"
   ]
  },
  {
   "cell_type": "code",
   "execution_count": 31,
   "id": "d96fc6ab",
   "metadata": {},
   "outputs": [
    {
     "name": "stdout",
     "output_type": "stream",
     "text": [
      "size of training sets    (15707, 1024)   (15707,)\n",
      "size of validation sets  (5236, 1024)    (5236,)\n",
      "size of test sets        (5236, 1024)    (5236,)\n"
     ]
    }
   ],
   "source": [
    "x_train = x[:len(y)-split_num*2]\n",
    "y_train = y[:len(y)-split_num*2]\n",
    "print(\"size of training sets   \" , x_train.shape , \" \" , y_train.shape)\n",
    "\n",
    "x_validation = x[len(y)-split_num*2:len(y)-split_num]\n",
    "y_validation = y[len(y)-split_num*2:len(y)-split_num]\n",
    "print(\"size of validation sets \" ,x_validation.shape , \"  \" , y_validation.shape)\n",
    "\n",
    "x_test = x[len(y)-split_num:]\n",
    "y_test = y[len(y)-split_num:]\n",
    "print(\"size of test sets       \" ,x_test.shape , \"  \" , y_test.shape)"
   ]
  },
  {
   "cell_type": "markdown",
   "id": "5e808397",
   "metadata": {},
   "source": [
    "<i style=\"color:green\"> ANN class for create - train and test the model  </i>"
   ]
  },
  {
   "cell_type": "code",
   "execution_count": 105,
   "id": "f9ce8500",
   "metadata": {},
   "outputs": [],
   "source": [
    "class ANN(object):\n",
    "    def __init__(self, train_set_samples, train_set_labels , number_of_hidden_layers , size_of_hidden_layers = 128 , batch_size = 32 , step_size = 5e-2 ,regularization_strength = 1e-3 , epoch = 3000):\n",
    "        self.X = train_set_samples\n",
    "        self.y = train_set_labels\n",
    "        self.number_of_hidden_layers = number_of_hidden_layers\n",
    "        self.batch_size = batch_size\n",
    "        self.epoch = epoch\n",
    "        \n",
    "        self.D = 32*32 #size of images\n",
    "        self.K = 10 #number of classes\n",
    "        self.h = size_of_hidden_layers   #size of hidden layer\n",
    "       \n",
    "        self.step_size = step_size\n",
    "        self.reg = regularization_strength # regularization strength\n",
    "        \n",
    "        self.weights_list = []\n",
    "        self.biases_list = []\n",
    "        self.hidden_layer_score=[]\n",
    "        \n",
    "        self.loss = 0\n",
    "        self.losses = [];\n",
    "    \n",
    "    def create_hidden_layer(self, n_inputs): #32*32 or 128\n",
    "        weights = 0.01 * np.random.randn(n_inputs, self.h)\n",
    "        self.weights_list.append(weights)\n",
    "        biases = np.zeros((1, self.h))\n",
    "        self.biases_list.append(biases)\n",
    "    \n",
    "    def create_final_layer(self):\n",
    "        self.softmax_weights = 0.01 * np.random.randn(self.h, self.K)\n",
    "        self.softmax_biases  = np.zeros((1,self.K))\n",
    "        \n",
    "    def softmax(self, scores):\n",
    "        expX = np.exp(scores)\n",
    "        return expX / np.sum(expX, axis=1, keepdims=True)# [N x K]\n",
    "    \n",
    "    def relu(self, data):\n",
    "        return np.maximum(0, data)\n",
    "    \n",
    "    #average cross-entropy loss and regularization\n",
    "    def compute_the_loss(self, labels , probs):\n",
    "        correct_logprobs = -np.log(probs[range(len(labels)),labels])\n",
    "        data_loss = np.sum(correct_logprobs)/len(labels)\n",
    "        reg_loss = 0\n",
    "        for i in range(len(self.weights_list)):\n",
    "            reg_loss += 0.5*self.reg*np.sum(self.weights_list[i] ** 2) \n",
    "        reg_loss += 0.5*self.reg*np.sum(self.softmax_weights ** 2) \n",
    "        self.loss = data_loss + reg_loss\n",
    "        \n",
    "    def gradient(self, labels, probs):\n",
    "        dscores = probs\n",
    "        dscores[range(len(labels)),labels] -= 1\n",
    "        dscores /= len(labels)\n",
    "        return dscores\n",
    "        \n",
    "    def backpropate(self,dscores):\n",
    "        d_hiddens_list = []\n",
    "        d_weights_list = []\n",
    "        d_biases_list = []\n",
    "        j = self.number_of_hidden_layers\n",
    "        \n",
    "        d_softmax_weights = np.dot(self.hidden_layer_score[j].T, dscores)\n",
    "        d_softmax_biases = np.sum(dscores, axis=0, keepdims=True)\n",
    "        \n",
    "        dhidden = np.dot(dscores, self.softmax_weights.T)\n",
    "        \n",
    "        dhidden[self.hidden_layer_score[j] <= 0] = 0\n",
    "        \n",
    "        \n",
    "        for i in range(self.number_of_hidden_layers):\n",
    "            j -= 1\n",
    "            d_weights_list.insert(0, np.dot(self.hidden_layer_score[j].T, dhidden))\n",
    "            d_biases_list.insert(0, np.sum(dhidden, axis=0, keepdims=True))\n",
    "            dhidden = np.dot(dhidden, self.weights_list[j].T)\n",
    "            dhidden[self.hidden_layer_score[j] <= 0] = 0\n",
    "            \n",
    "\n",
    "        # add regularization gradient contribution\n",
    "        d_softmax_weights += self.reg * self.softmax_weights\n",
    "        for i in range(len(d_weights_list)):\n",
    "            d_weights_list[i] +=  self.reg * self.weights_list[i]\n",
    "            \n",
    "        for i in range(len(self.weights_list)):\n",
    "            self.weights_list[i] += -self.step_size* d_weights_list[i]\n",
    "            self.biases_list[i] += -self.step_size* d_biases_list[i]\n",
    "        self.softmax_weights += -self.step_size* d_softmax_weights\n",
    "        self.softmax_biases += -self.step_size* d_softmax_biases\n",
    "        \n",
    "    def plot_cost(self):\n",
    "        plt.figure()\n",
    "        plt.plot(np.arange(len(self.losses)), self.losses)\n",
    "        plt.xlabel(\"epochs\")\n",
    "        plt.ylabel(\"cost\")\n",
    "        plt.show()\n",
    "        \n",
    "    def create_batch(self, batch_size=32):\n",
    "        mini_batches=[]\n",
    "        no_of_batches=self.X.shape[0]//batch_size\n",
    "        temp = 0\n",
    "        \n",
    "        for i in range(no_of_batches):\n",
    "            mini_batchX = self.X[i*batch_size:(i+1)*batch_size]\n",
    "            mini_batchY = self.y[i*batch_size:(i+1)*batch_size]\n",
    "            mini_batches.append((mini_batchX,mini_batchY))\n",
    "            \n",
    "        if self.X.shape[0] % batch_size != 0:\n",
    "            mini_batchX = self.X[(i+1)*batch_size:]\n",
    "            mini_batchY = self.y[(i+1)*batch_size:]\n",
    "            mini_batches.append((mini_batchX,mini_batchY))\n",
    "            \n",
    "        return mini_batches\n",
    "        \n",
    "    def train(self):\n",
    "\n",
    "        for i in range(self.number_of_hidden_layers):\n",
    "            if(i == 0):\n",
    "                self.create_hidden_layer(self.D)\n",
    "            else:\n",
    "                self.create_hidden_layer(self.h)\n",
    "        self.create_final_layer()\n",
    "        \n",
    "        batches = self.create_batch(self.batch_size)\n",
    "       \n",
    "        for iteration in range(self.epoch):\n",
    "            flag = True\n",
    "            loss_flag = True\n",
    "            for batch in batches:\n",
    "            \n",
    "                data_set = batch[0]\n",
    "                batch_labels = batch[1]\n",
    "                \n",
    "                self.hidden_layer_score = []\n",
    "                self.hidden_layer_score.append(data_set)\n",
    "\n",
    "                for i in range(self.number_of_hidden_layers):\n",
    "                    if(i == 0):\n",
    "                        score = self.relu(np.dot(data_set, self.weights_list[i]) + self.biases_list[i])\n",
    "                        self.hidden_layer_score.append(score)\n",
    "                    else:\n",
    "                        score = self.relu(np.dot(score, self.weights_list[i]) + self.biases_list[i])\n",
    "                        self.hidden_layer_score.append(score)\n",
    "                score = np.dot(score, self.softmax_weights) + self.softmax_biases\n",
    "                #self.hidden_layer_score.append(score)\n",
    "                probabilities = self.softmax(score)        \n",
    "                self.compute_the_loss(batch_labels, probabilities)\n",
    "                if loss_flag:\n",
    "                    self.losses.append(self.loss)\n",
    "                    loss_flag = False\n",
    "                if flag and iteration % 250 == 0 :\n",
    "                    print(\"iteration %d: loss %f\" % (iteration, self.loss))\n",
    "                    predicted_class = np.argmax(probabilities, axis=1)\n",
    "                    print(\"training accuracy: %f\" % (np.mean(predicted_class == batch_labels)))\n",
    "                    flag = False\n",
    "\n",
    "                dscores = self.gradient(batch_labels, probabilities)\n",
    "                self.backpropate(dscores)\n",
    "\n",
    "               \n",
    "    \n",
    "    def test(self, test_set, test_label_set):\n",
    "        for i in range(self.number_of_hidden_layers):\n",
    "            if(i == 0):\n",
    "                score = self.relu(np.dot(test_set, self.weights_list[i]) + self.biases_list[i])\n",
    "            else:\n",
    "                score = self.relu(np.dot(score, self.weights_list[i]) + self.biases_list[i])\n",
    "        score = np.dot(score, self.softmax_weights) + self.softmax_biases\n",
    "        probabilities = self.softmax(score)        \n",
    "        self.compute_the_loss(test_label_set,probabilities)\n",
    "        \n",
    "        print(\"loss %f\" % (self.loss))\n",
    "        predicted_class = np.argmax(probabilities, axis=1)\n",
    "        print(\"test accuracy: %f\" % (np.mean(predicted_class == test_label_set)))\n",
    "                   \n",
    "        "
   ]
  },
  {
   "cell_type": "markdown",
   "id": "90cde813",
   "metadata": {},
   "source": [
    "- The data set of 15 thousand was too large for the validation processes we will do to get the best out of the model. It was taking too long. Therefore, it was necessary to use a smaller data set to determine the model parameters. For this reason, we used a small part of the train set."
   ]
  },
  {
   "cell_type": "code",
   "execution_count": 49,
   "id": "b17a36ae",
   "metadata": {},
   "outputs": [
    {
     "data": {
      "text/plain": [
       "1571"
      ]
     },
     "execution_count": 49,
     "metadata": {},
     "output_type": "execute_result"
    }
   ],
   "source": [
    "split_num2 = int(round(0.1*len(y_train)))\n",
    "split_num2"
   ]
  },
  {
   "cell_type": "code",
   "execution_count": 50,
   "id": "98501506",
   "metadata": {},
   "outputs": [
    {
     "data": {
      "text/plain": [
       "((1571, 1024), (1571,))"
      ]
     },
     "execution_count": 50,
     "metadata": {},
     "output_type": "execute_result"
    }
   ],
   "source": [
    "x_train_for_parameters = x_train[len(y_train)-split_num2:]\n",
    "y_train_for_parameters = y_train[len(y_train)-split_num2:]\n",
    "x_train_for_parameters.shape , y_train_for_parameters.shape"
   ]
  },
  {
   "cell_type": "code",
   "execution_count": 51,
   "id": "829bdc0a",
   "metadata": {},
   "outputs": [
    {
     "data": {
      "text/plain": [
       "((1571, 1024), (1571,))"
      ]
     },
     "execution_count": 51,
     "metadata": {},
     "output_type": "execute_result"
    }
   ],
   "source": [
    "x_validation_for_parameters = x_validation[len(y_validation)-split_num2:]\n",
    "y_validation_for_parameters = y_validation[len(y_validation)-split_num2:]\n",
    "x_validation_for_parameters.shape , y_validation_for_parameters.shape"
   ]
  },
  {
   "cell_type": "markdown",
   "id": "64df0b64",
   "metadata": {},
   "source": [
    "def __init__(self, train_set_samples, train_set_labels , number_of_hidden_layers , size_of_hidden_layers = 128 , \n",
    "batch_size = 32 , step_size = 5e-2 ,regularization_strength = 1e-3):\n"
   ]
  },
  {
   "cell_type": "markdown",
   "id": "bf023919",
   "metadata": {},
   "source": [
    "- In our first comparison, the effect of the number of hidden layers in our model on the success of the model is examined"
   ]
  },
  {
   "cell_type": "code",
   "execution_count": 52,
   "id": "040da968",
   "metadata": {},
   "outputs": [],
   "source": [
    "model1 =  ANN(x_train_for_parameters,y_train_for_parameters,1)"
   ]
  },
  {
   "cell_type": "code",
   "execution_count": 53,
   "id": "5dfd77d8",
   "metadata": {},
   "outputs": [
    {
     "name": "stdout",
     "output_type": "stream",
     "text": [
      "iteration 0: loss 2.309643\n",
      "training accuracy: 0.125000\n",
      "iteration 1000: loss 0.742189\n",
      "training accuracy: 0.937500\n",
      "iteration 2000: loss 0.444153\n",
      "training accuracy: 1.000000\n"
     ]
    }
   ],
   "source": [
    "model1.train()"
   ]
  },
  {
   "cell_type": "code",
   "execution_count": 54,
   "id": "a2a34ad2",
   "metadata": {},
   "outputs": [],
   "source": [
    "model2 =  ANN(x_train_for_parameters,y_train_for_parameters,2)"
   ]
  },
  {
   "cell_type": "code",
   "execution_count": 55,
   "id": "a7a81d23",
   "metadata": {},
   "outputs": [
    {
     "name": "stdout",
     "output_type": "stream",
     "text": [
      "iteration 0: loss 2.309908\n",
      "training accuracy: 0.062500\n",
      "iteration 1000: loss 0.311818\n",
      "training accuracy: 1.000000\n",
      "iteration 2000: loss 0.345530\n",
      "training accuracy: 1.000000\n"
     ]
    }
   ],
   "source": [
    "model2.train()"
   ]
  },
  {
   "cell_type": "code",
   "execution_count": 56,
   "id": "8ab93c17",
   "metadata": {},
   "outputs": [
    {
     "name": "stdout",
     "output_type": "stream",
     "text": [
      "loss 4.254196\n",
      "test accuracy: 0.168682\n"
     ]
    }
   ],
   "source": [
    "model1.test(x_validation_for_parameters,y_validation_for_parameters)"
   ]
  },
  {
   "cell_type": "code",
   "execution_count": 57,
   "id": "dc773996",
   "metadata": {},
   "outputs": [
    {
     "name": "stdout",
     "output_type": "stream",
     "text": [
      "loss 4.739755\n",
      "test accuracy: 0.222788\n"
     ]
    }
   ],
   "source": [
    "model2.test(x_validation_for_parameters,y_validation_for_parameters)"
   ]
  },
  {
   "cell_type": "code",
   "execution_count": 77,
   "id": "aa54001a",
   "metadata": {},
   "outputs": [
    {
     "name": "stdout",
     "output_type": "stream",
     "text": [
      "+-----------+----------+----------+\n",
      "|   Models  |   Loss   | Accuracy |\n",
      "+-----------+----------+----------+\n",
      "| Model1(1) | 4.254196 | 0.168682 |\n",
      "| Model2(2) | 4.739755 | 0.222788 |\n",
      "+-----------+----------+----------+\n"
     ]
    }
   ],
   "source": [
    "table = PrettyTable([\"Models\", \"Loss\", \"Accuracy\"]) \n",
    "table.add_row([\"Model1(1)\", \"4.254196\", \"0.168682\"]) \n",
    "table.add_row([\"Model2(2)\", \"4.739755\", \"0.222788\"])\n",
    "print(table)"
   ]
  },
  {
   "cell_type": "markdown",
   "id": "2420b171",
   "metadata": {},
   "source": [
    "- Obviously, the model which has 2 hidden layers, has higher accuracy. For this reason, we will continue with the model that has 2 hidden layers. "
   ]
  },
  {
   "cell_type": "markdown",
   "id": "24583bb8",
   "metadata": {},
   "source": [
    "- In our second comparison, the effect of the size of hidden layers in our model on the success of the model is examined"
   ]
  },
  {
   "cell_type": "code",
   "execution_count": 59,
   "id": "148ace6a",
   "metadata": {},
   "outputs": [],
   "source": [
    "model3 =  ANN(x_train_for_parameters,y_train_for_parameters,2,64)"
   ]
  },
  {
   "cell_type": "code",
   "execution_count": 61,
   "id": "2aa6f197",
   "metadata": {},
   "outputs": [
    {
     "name": "stdout",
     "output_type": "stream",
     "text": [
      "iteration 0: loss 2.306210\n",
      "training accuracy: 0.000000\n",
      "iteration 1000: loss 0.325267\n",
      "training accuracy: 1.000000\n",
      "iteration 2000: loss 1.146797\n",
      "training accuracy: 0.718750\n"
     ]
    }
   ],
   "source": [
    "model3.train()"
   ]
  },
  {
   "cell_type": "code",
   "execution_count": 62,
   "id": "1436fb20",
   "metadata": {},
   "outputs": [],
   "source": [
    "model4 =  ANN(x_train_for_parameters,y_train_for_parameters,2,128)"
   ]
  },
  {
   "cell_type": "code",
   "execution_count": 63,
   "id": "9e031494",
   "metadata": {},
   "outputs": [
    {
     "name": "stdout",
     "output_type": "stream",
     "text": [
      "iteration 0: loss 2.310126\n",
      "training accuracy: 0.000000\n",
      "iteration 1000: loss 1.876717\n",
      "training accuracy: 0.468750\n",
      "iteration 2000: loss 0.269963\n",
      "training accuracy: 1.000000\n"
     ]
    }
   ],
   "source": [
    "model4.train()"
   ]
  },
  {
   "cell_type": "code",
   "execution_count": 64,
   "id": "262c95a7",
   "metadata": {},
   "outputs": [],
   "source": [
    "model5 =  ANN(x_train_for_parameters,y_train_for_parameters,2,256)"
   ]
  },
  {
   "cell_type": "code",
   "execution_count": 65,
   "id": "4cd625d7",
   "metadata": {},
   "outputs": [
    {
     "name": "stdout",
     "output_type": "stream",
     "text": [
      "iteration 0: loss 2.318189\n",
      "training accuracy: 0.125000\n",
      "iteration 1000: loss 1.284069\n",
      "training accuracy: 0.718750\n",
      "iteration 2000: loss 0.769369\n",
      "training accuracy: 0.812500\n"
     ]
    }
   ],
   "source": [
    "model5.train()"
   ]
  },
  {
   "cell_type": "code",
   "execution_count": 66,
   "id": "39933426",
   "metadata": {},
   "outputs": [
    {
     "name": "stdout",
     "output_type": "stream",
     "text": [
      "loss 4.909180\n",
      "test accuracy: 0.208148\n"
     ]
    }
   ],
   "source": [
    "model3.test(x_validation_for_parameters,y_validation_for_parameters)"
   ]
  },
  {
   "cell_type": "code",
   "execution_count": 67,
   "id": "3518cae1",
   "metadata": {},
   "outputs": [
    {
     "name": "stdout",
     "output_type": "stream",
     "text": [
      "loss 5.529141\n",
      "test accuracy: 0.210694\n"
     ]
    }
   ],
   "source": [
    "model4.test(x_validation_for_parameters,y_validation_for_parameters)"
   ]
  },
  {
   "cell_type": "code",
   "execution_count": 68,
   "id": "fdfb0ae4",
   "metadata": {},
   "outputs": [
    {
     "name": "stdout",
     "output_type": "stream",
     "text": [
      "loss 5.247144\n",
      "test accuracy: 0.243157\n"
     ]
    }
   ],
   "source": [
    "model5.test(x_validation_for_parameters,y_validation_for_parameters)"
   ]
  },
  {
   "cell_type": "code",
   "execution_count": 78,
   "id": "094545f6",
   "metadata": {},
   "outputs": [
    {
     "name": "stdout",
     "output_type": "stream",
     "text": [
      "+-------------+----------+----------+\n",
      "|    Models   |   Loss   | Accuracy |\n",
      "+-------------+----------+----------+\n",
      "|  Model3(64) | 4.909180 | 0.208148 |\n",
      "| Model4(128) | 5.529141 | 0.210694 |\n",
      "| Model5(256) | 5.247144 | 0.243157 |\n",
      "+-------------+----------+----------+\n"
     ]
    }
   ],
   "source": [
    "table = PrettyTable([\"Models\", \"Loss\", \"Accuracy\"]) \n",
    "table.add_row([\"Model3(64)\", \"4.909180\", \"0.208148\"]) \n",
    "table.add_row([\"Model4(128)\", \"5.529141\", \"0.210694\"])\n",
    "table.add_row([\"Model5(256)\", \"5.247144\", \"0.243157\"])\n",
    "print(table)"
   ]
  },
  {
   "cell_type": "markdown",
   "id": "a5454b15",
   "metadata": {},
   "source": [
    "- The model which size of hidden layers is 256, has higher accuracy. For this reason, we will continue with the model that size of hidden layers is 256"
   ]
  },
  {
   "cell_type": "markdown",
   "id": "f88ddd51",
   "metadata": {},
   "source": [
    "- In our third comparison, the effect of the batch size in our model on the success of the model is examined"
   ]
  },
  {
   "cell_type": "code",
   "execution_count": 79,
   "id": "d72a6342",
   "metadata": {},
   "outputs": [],
   "source": [
    "model6 =  ANN(x_train_for_parameters,y_train_for_parameters,2,256,32)"
   ]
  },
  {
   "cell_type": "code",
   "execution_count": 80,
   "id": "160b2d0e",
   "metadata": {},
   "outputs": [
    {
     "name": "stdout",
     "output_type": "stream",
     "text": [
      "iteration 0: loss 2.319158\n",
      "training accuracy: 0.031250\n",
      "iteration 1000: loss 0.761739\n",
      "training accuracy: 0.875000\n",
      "iteration 2000: loss 0.538830\n",
      "training accuracy: 0.968750\n"
     ]
    }
   ],
   "source": [
    "model6.train()"
   ]
  },
  {
   "cell_type": "code",
   "execution_count": 81,
   "id": "e8485a3c",
   "metadata": {},
   "outputs": [],
   "source": [
    "model7 =  ANN(x_train_for_parameters,y_train_for_parameters,2,256,64)"
   ]
  },
  {
   "cell_type": "code",
   "execution_count": 82,
   "id": "3e463107",
   "metadata": {},
   "outputs": [
    {
     "name": "stdout",
     "output_type": "stream",
     "text": [
      "iteration 0: loss 2.319486\n",
      "training accuracy: 0.015625\n",
      "iteration 1000: loss 0.546725\n",
      "training accuracy: 0.937500\n",
      "iteration 2000: loss 0.616635\n",
      "training accuracy: 0.921875\n"
     ]
    }
   ],
   "source": [
    "model7.train()"
   ]
  },
  {
   "cell_type": "code",
   "execution_count": 83,
   "id": "1a852b68",
   "metadata": {},
   "outputs": [],
   "source": [
    "model8 =  ANN(x_train_for_parameters,y_train_for_parameters,2,256,128)"
   ]
  },
  {
   "cell_type": "code",
   "execution_count": 84,
   "id": "f7756510",
   "metadata": {},
   "outputs": [
    {
     "name": "stdout",
     "output_type": "stream",
     "text": [
      "iteration 0: loss 2.318739\n",
      "training accuracy: 0.109375\n",
      "iteration 1000: loss 0.355840\n",
      "training accuracy: 1.000000\n",
      "iteration 2000: loss 0.518063\n",
      "training accuracy: 0.960938\n"
     ]
    }
   ],
   "source": [
    "model8.train()"
   ]
  },
  {
   "cell_type": "code",
   "execution_count": 85,
   "id": "f43cfc0d",
   "metadata": {},
   "outputs": [
    {
     "name": "stdout",
     "output_type": "stream",
     "text": [
      "loss 5.142517\n",
      "test accuracy: 0.245703\n"
     ]
    }
   ],
   "source": [
    "model6.test(x_validation_for_parameters,y_validation_for_parameters)"
   ]
  },
  {
   "cell_type": "code",
   "execution_count": 86,
   "id": "7873359f",
   "metadata": {},
   "outputs": [
    {
     "name": "stdout",
     "output_type": "stream",
     "text": [
      "loss 5.051058\n",
      "test accuracy: 0.236792\n"
     ]
    }
   ],
   "source": [
    "model7.test(x_validation_for_parameters,y_validation_for_parameters)"
   ]
  },
  {
   "cell_type": "code",
   "execution_count": 87,
   "id": "377cce73",
   "metadata": {},
   "outputs": [
    {
     "name": "stdout",
     "output_type": "stream",
     "text": [
      "loss 3.202471\n",
      "test accuracy: 0.212603\n"
     ]
    }
   ],
   "source": [
    "model8.test(x_validation_for_parameters,y_validation_for_parameters)"
   ]
  },
  {
   "cell_type": "code",
   "execution_count": 102,
   "id": "930135b0",
   "metadata": {},
   "outputs": [
    {
     "name": "stdout",
     "output_type": "stream",
     "text": [
      "+-------------+----------+----------+\n",
      "|    Models   |   Loss   | Accuracy |\n",
      "+-------------+----------+----------+\n",
      "|  Model6(32) | 5.142517 | 0.245703 |\n",
      "|  Model7(64) | 5.051058 | 0.236792 |\n",
      "| Model8(128) | 3.202471 | 0.212603 |\n",
      "+-------------+----------+----------+\n"
     ]
    }
   ],
   "source": [
    "table = PrettyTable([\"Models\", \"Loss\", \"Accuracy\"]) \n",
    "table.add_row([\"Model6(32)\", \"5.142517\", \"0.245703\"]) \n",
    "table.add_row([\"Model7(64)\", \"5.051058\", \"0.236792\"])\n",
    "table.add_row([\"Model8(128)\", \"3.202471\", \"0.212603\"])\n",
    "print(table)"
   ]
  },
  {
   "cell_type": "markdown",
   "id": "57d8f44d",
   "metadata": {},
   "source": [
    "- We create our final model by choosing the higher accuracy ones.\n",
    "- We use the real train set to train this model."
   ]
  },
  {
   "cell_type": "code",
   "execution_count": 99,
   "id": "c42334f4",
   "metadata": {},
   "outputs": [
    {
     "data": {
      "text/plain": [
       "((7854, 1024), (7854,))"
      ]
     },
     "execution_count": 99,
     "metadata": {},
     "output_type": "execute_result"
    }
   ],
   "source": [
    "split_num3 = int(round(0.5*len(y_train)))\n",
    "\n",
    "x_train_for_parameters = x_train[len(y_train)-split_num3:]\n",
    "y_train_for_parameters = y_train[len(y_train)-split_num3:]\n",
    "x_train_for_parameters.shape , y_train_for_parameters.shape"
   ]
  },
  {
   "cell_type": "code",
   "execution_count": 106,
   "id": "6f3f9fdc",
   "metadata": {},
   "outputs": [],
   "source": [
    "model9 =  ANN(x_train_for_parameters,y_train_for_parameters,2,256,32,5e-2 ,1e-3 , 1000)"
   ]
  },
  {
   "cell_type": "code",
   "execution_count": 107,
   "id": "0bfab1d3",
   "metadata": {
    "scrolled": true
   },
   "outputs": [
    {
     "name": "stdout",
     "output_type": "stream",
     "text": [
      "iteration 0: loss 2.318631\n",
      "training accuracy: 0.093750\n",
      "iteration 250: loss 0.866025\n",
      "training accuracy: 0.937500\n",
      "iteration 500: loss 0.714254\n",
      "training accuracy: 1.000000\n",
      "iteration 750: loss 0.619105\n",
      "training accuracy: 1.000000\n"
     ]
    }
   ],
   "source": [
    "model9.train() "
   ]
  },
  {
   "cell_type": "code",
   "execution_count": 108,
   "id": "217a0c4f",
   "metadata": {},
   "outputs": [
    {
     "name": "stdout",
     "output_type": "stream",
     "text": [
      "loss 3.359079\n",
      "test accuracy: 0.348930\n"
     ]
    }
   ],
   "source": [
    "model9.test(x_test,y_test)"
   ]
  },
  {
   "cell_type": "markdown",
   "id": "078f5623",
   "metadata": {},
   "source": [
    "- We could not train using the whole training dataset in the model we used, because the training takes really long and time-consuming, we had to wait for it to train again after making a small change in the model, but we did not have enough time for this. When we look at the training accuracy of the model, we can say that we have an overfitting problem. There were some things we could do to resolve this. For example, we could have used more smaples during the training of the model. Another option would be to change the size of the images we use. If we had worked with 128x128 images instead of 32x32, the overfitting problem might have been less."
   ]
  },
  {
   "cell_type": "markdown",
   "id": "40d38e7a",
   "metadata": {},
   "source": [
    "<img src=\"tablo1.png\" width=600 height=600 />\n"
   ]
  }
 ],
 "metadata": {
  "kernelspec": {
   "display_name": "Python 3",
   "language": "python",
   "name": "python3"
  },
  "language_info": {
   "codemirror_mode": {
    "name": "ipython",
    "version": 3
   },
   "file_extension": ".py",
   "mimetype": "text/x-python",
   "name": "python",
   "nbconvert_exporter": "python",
   "pygments_lexer": "ipython3",
   "version": "3.8.8"
  }
 },
 "nbformat": 4,
 "nbformat_minor": 5
}
